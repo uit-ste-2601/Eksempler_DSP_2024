{
 "cells": [
  {
   "cell_type": "markdown",
   "metadata": {},
   "source": [
    "# Designing a FIR filter with a window\n",
    "\n",
    "In this notebook we are going to look at how to design a FIR filter using a window.\n",
    "Do the imports"
   ]
  },
  {
   "cell_type": "code",
   "execution_count": null,
   "metadata": {},
   "outputs": [],
   "source": [
    "%matplotlib widget\n",
    "import numpy as np\n",
    "import matplotlib.pyplot as plt\n",
    "import time\n",
    "import scipy.signal as signal\n",
    "plt.rcParams['figure.figsize'] = (6.0, 3)"
   ]
  },
  {
   "cell_type": "markdown",
   "metadata": {},
   "source": [
    "Design the window, here a square window for $H(m)$"
   ]
  },
  {
   "cell_type": "code",
   "execution_count": null,
   "metadata": {},
   "outputs": [],
   "source": [
    "N = 64\n",
    "\n",
    "# Initialising  an array to hold H\n",
    "H = np.zeros(N)\n",
    "\n",
    "# Set the one sided length (in m) of the filter\n",
    "K2 = 5 # K/2+1\n",
    "\n",
    "# Write this on both sides of the H (remembering the symmetry). The DC-component\n",
    "# (m=0) is not written.\n",
    "H[0:K2+1] = 1\n",
    "H[N-K2:N] = 1\n",
    "\n",
    "\n",
    "# Plot the resulting frequency response as a function of m\n",
    "plt.figure(1)\n",
    "plt.clf()\n",
    "plt.plot(H,'o')\n",
    "plt.xlabel('$m$')\n",
    "plt.ylabel('$H(m)$')\n",
    "plt.grid()\n",
    "plt.tight_layout()\n",
    "plt.show()\n",
    "\n",
    "# Centering on 0. \n",
    "# Make the m's go from -N/2+1 to N/2\n",
    "m = np.arange(-int(N/2)+1,int(N/2)+1,1)\n",
    "\n",
    "\n",
    "# Plotting the new figure \n",
    "plt.figure(2)\n",
    "plt.clf()\n",
    "Hs = np.zeros(N)\n",
    "Hs[int(N/2)-1:] = H[0:int(N/2)+1]\n",
    "Hs[0:int(N/2)-1]= H[int(N/2)+1:]\n",
    "plt.plot(m,Hs,'o')\n",
    "plt.xlabel('$m$')\n",
    "plt.ylabel('$H(m)$')\n",
    "plt.grid()\n",
    "plt.tight_layout()\n",
    "plt.show()\n",
    "    "
   ]
  },
  {
   "cell_type": "markdown",
   "metadata": {},
   "source": [
    "Notice that the x-axis is in $m$, and not in frequency, meaning that the cut-off\n",
    "frequency will depend on the sampling frequency.\n",
    "\n",
    "### Calculating the filter coefficients\n",
    "\n",
    "We are now going to calculate the filter coefficients by doing the invers DFT\n",
    "$$\n",
    "h(k) = \\frac{1}{N}\\sum_{m=-(N/2)+1}^{N/2} H(m) e^{j 2\\pi m k /N}\n",
    "$$"
   ]
  },
  {
   "cell_type": "code",
   "execution_count": null,
   "metadata": {},
   "outputs": [],
   "source": [
    "# Finding the filter coefficients by taking the inverse FFT\n",
    "ht = np.fft.ifft(H,N)\n",
    "\n",
    "# We are looking for the real values\n",
    "ht = np.real(ht)\n",
    "# Plot the figure of the filter coefficients \n",
    "plt.figure(3)\n",
    "plt.clf()\n",
    "plt.plot(ht,'o')\n",
    "plt.xlabel('$k$')\n",
    "plt.ylabel('$h[k]$')\n",
    "plt.grid()\n",
    "plt.tight_layout()\n",
    "plt.show()\n",
    "\n"
   ]
  },
  {
   "cell_type": "markdown",
   "metadata": {},
   "source": [
    "In the figure we need to check that the filter coefficients are symetrical and \n",
    "don't wary to much. "
   ]
  },
  {
   "cell_type": "code",
   "execution_count": null,
   "metadata": {},
   "outputs": [],
   "source": [
    "# We want to shift it to the center to make the final filter symmetric\n",
    "\n",
    "h = np.roll(ht,32) # Roll the filter 32 steps \n",
    "\n",
    "h=h[1:] # Removing the point making it non-symetric \n",
    "plt.figure(31)\n",
    "plt.clf()\n",
    "plt.plot(h,'o')\n",
    "plt.xlabel('$k$')\n",
    "plt.ylabel('$h[k]$')\n",
    "plt.grid()\n",
    "plt.tight_layout()\n",
    "plt.show()\n"
   ]
  },
  {
   "cell_type": "markdown",
   "metadata": {},
   "source": [
    "Once you are sattisfied about this we will make the signal to test how the filter \n",
    "works. \n"
   ]
  },
  {
   "cell_type": "code",
   "execution_count": null,
   "metadata": {},
   "outputs": [],
   "source": [
    "N2 = 100 \n",
    "n = np.arange(N2)\n",
    "\n",
    "fs = 50 # Sampling frequency in Hz\n",
    "ts = 1/fs # Sampling time in s \n",
    "\n",
    "f1 = 1 # Frequency of the first signal in Hz\n",
    "f2 = 20 # Frequency of the second signal in Hz\n",
    "\n",
    "# Making the signal as a sum of two cosines. \n",
    "x = np.cos(2*np.pi*f1*n*ts)+np.cos(2*np.pi*f2*n*ts)\n",
    "\n",
    "# Plot the resulting input signal in the time domain\n",
    "plt.figure(4)\n",
    "plt.clf()\n",
    "plt.plot(n,x,'-o')\n",
    "plt.xlabel('$n$')\n",
    "plt.ylabel('$x[n]$')\n",
    "plt.title('Input signal')\n",
    "plt.grid()\n",
    "plt.tight_layout()\n",
    "plt.show()\n",
    "\n",
    "# Take the FFT of the input signal and plot it \n",
    "plt.figure(5)\n",
    "plt.clf()\n",
    "plt.plot(n*fs/N,np.abs(np.fft.fft(x)),'-o')\n",
    "plt.xlabel('$f (Hz)$')\n",
    "plt.ylabel('$X$')\n",
    "plt.title('FFT of input signal')\n",
    "plt.grid()\n",
    "plt.tight_layout()\n",
    "plt.show()\n",
    "\n",
    "# Apply the filter to the input signal using convolution \n",
    "y = np.convolve(h,x)\n",
    "\n",
    "# Plot the resulting output signal \n",
    "plt.figure(6)\n",
    "plt.clf()\n",
    "plt.plot(y,'-o')\n",
    "plt.xlabel('$n$')\n",
    "plt.ylabel('$y[n]$')\n",
    "plt.title('Output signal')\n",
    "plt.grid()\n",
    "plt.tight_layout()\n",
    "plt.show()\n",
    "\n",
    "# Plot the FFT of the signal \n",
    "plt.figure(7)\n",
    "plt.clf()\n",
    "plt.plot(np.arange(len(y))*fs/len(y),np.abs(np.fft.fft(y)),'-o')\n",
    "plt.xlabel('$f(Hz)$')\n",
    "plt.ylabel('$Y_{mag}$')\n",
    "plt.title('FFT of output signal')\n",
    "plt.grid()\n",
    "plt.tight_layout()\n",
    "plt.show()\n",
    "\n"
   ]
  },
  {
   "cell_type": "markdown",
   "metadata": {},
   "source": [
    "## A filter design using a window \n",
    "\n",
    "We will now use the *scipy* method of [firwin](https://docs.scipy.org/doc/scipy/reference/generated/scipy.signal.firwin.html#scipy.signal.firwin) to generate a filter.\n",
    "\n",
    "We will first take a look at the window and see how it looks. The window of choice is the Dolph-Chebyshev window."
   ]
  },
  {
   "cell_type": "code",
   "execution_count": null,
   "metadata": {},
   "outputs": [],
   "source": [
    "\n",
    "# Make the window, by setting the number of coefficients, M, and the attenu\n",
    "Nx = 64 # Number of coefficients \n",
    "at = 100 # Attenuation of the window in dB\n",
    "\n",
    "# Get the window. \n",
    "window = signal.get_window(('chebwin', at), Nx) \n",
    "\n",
    "# Plot the resulting window \n",
    "plt.figure(8)\n",
    "plt.clf()\n",
    "plt.plot(window)\n",
    "plt.title(\"Dolph-Chebyshev window (100 dB)\")\n",
    "plt.ylabel(\"$H[m]$\")\n",
    "plt.xlabel(\"$m$\")\n",
    "\n",
    "# Find the resulting filter coefficients\n",
    "hw = np.fft.ifft(window,Nx)\n",
    "# Plot the magnitude of the inverse FFT of the window\n",
    "plt.figure(9)\n",
    "plt.clf()\n",
    "plt.plot(np.abs(hw),'.')\n",
    "plt.show()\n",
    "#plt.title(\"Frequency response of the Dolph-Chebyshev window (100 dB)\")\n",
    "#plt.ylabel(\"Normalized magnitude [dB]\")\n",
    "#plt.xlabel(\"Normalized frequency [cycles per sample]\")"
   ]
  },
  {
   "cell_type": "markdown",
   "metadata": {},
   "source": [
    "\n"
   ]
  },
  {
   "cell_type": "code",
   "execution_count": null,
   "metadata": {},
   "outputs": [],
   "source": [
    "hww = np.roll(hw,32) # Roll the filter 32 steps \n",
    "\n",
    "hww = hww[1:] # Removing the point making it non-symetric \n",
    "plt.figure(10)\n",
    "plt.clf()\n",
    "plt.plot(hww,'o')\n",
    "plt.xlabel('$k$')\n",
    "plt.ylabel('$h[k]$')\n",
    "plt.grid()\n",
    "plt.tight_layout()\n",
    "plt.show()"
   ]
  },
  {
   "cell_type": "code",
   "execution_count": null,
   "metadata": {},
   "outputs": [],
   "source": [
    "# Apply the filter to the input signal using convolution \n",
    "y = np.convolve(hww,x)\n",
    "\n",
    "# Plot the resulting output signal \n",
    "plt.figure(11)\n",
    "plt.clf()\n",
    "plt.plot(y,'-o')\n",
    "plt.xlabel('$n$')\n",
    "plt.ylabel('$y[n]$')\n",
    "plt.title('Output signal')\n",
    "plt.grid()\n",
    "plt.tight_layout()\n",
    "plt.show()\n",
    "\n",
    "# Plot the FFT of the signal \n",
    "plt.figure(12)\n",
    "plt.clf()\n",
    "plt.plot(np.arange(len(y))*fs/len(y),np.abs(np.fft.fft(y)),'-o')\n",
    "plt.xlabel('$f(Hz)$')\n",
    "plt.ylabel('$Y_{mag}$')\n",
    "plt.title('FFT of output signal')\n",
    "plt.grid()\n",
    "plt.tight_layout()\n",
    "plt.show()"
   ]
  },
  {
   "cell_type": "code",
   "execution_count": null,
   "metadata": {},
   "outputs": [],
   "source": []
  }
 ],
 "metadata": {
  "kernelspec": {
   "display_name": "Python 3 (ipykernel)",
   "language": "python",
   "name": "python3"
  },
  "language_info": {
   "codemirror_mode": {
    "name": "ipython",
    "version": 3
   },
   "file_extension": ".py",
   "mimetype": "text/x-python",
   "name": "python",
   "nbconvert_exporter": "python",
   "pygments_lexer": "ipython3"
  }
 },
 "nbformat": 4,
 "nbformat_minor": 4
}
