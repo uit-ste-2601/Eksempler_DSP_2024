{
 "cells": [
  {
   "cell_type": "markdown",
   "metadata": {},
   "source": [
    "# Designing a FIR filter with a window\n",
    "\n",
    "In this notebook we are going to look at how to design a FIR filter using a window.\n",
    "Do the imports"
   ]
  },
  {
   "cell_type": "code",
   "execution_count": null,
   "metadata": {},
   "outputs": [],
   "source": [
    "%matplotlib widget\n",
    "import numpy as np\n",
    "import matplotlib.pyplot as plt\n",
    "import time\n",
    "import scipy.signal as signal\n",
    "plt.rcParams['figure.figsize'] = (6.0, 3)"
   ]
  },
  {
   "cell_type": "markdown",
   "metadata": {},
   "source": [
    "Design the window, here a square window for $H(m)$"
   ]
  },
  {
   "cell_type": "code",
   "execution_count": null,
   "metadata": {},
   "outputs": [],
   "source": [
    "N = 64\n",
    "H = np.zeros(N)\n",
    "\n",
    "K2 = 5 # K/2+1\n",
    "\n",
    "H[0:K2+1] = 1\n",
    "H[N-K2:N] = 1\n",
    "\n",
    "\n",
    "plt.figure()\n",
    "plt.plot(H,'o')\n",
    "plt.xlabel('$m$')\n",
    "plt.ylabel('$H(m)$')\n",
    "plt.grid()\n",
    "plt.tight_layout()\n",
    "plt.show()\n",
    "\n",
    "\n",
    "m = np.arange(-int(N/2)+1,int(N/2)+1,1)\n",
    "plt.figure()\n",
    "Hs = np.zeros(N)\n",
    "Hs[int(N/2)-1:] = H[0:int(N/2)+1]\n",
    "Hs[0:int(N/2)-1]= H[int(N/2)+1:]\n",
    "plt.plot(m,Hs,'o')\n",
    "plt.xlabel('$m$')\n",
    "plt.ylabel('$H(m)$')\n",
    "plt.grid()\n",
    "plt.tight_layout()\n",
    "plt.show()\n",
    "    "
   ]
  },
  {
   "cell_type": "markdown",
   "metadata": {},
   "source": [
    "### Calculating the filter coefficients\n",
    "\n",
    "We are now going to calculate the filter coefficients by doing the invers DFT\n",
    "$$\n",
    "h(k) = \\frac{1}{N}\\sum_{m=-(N/2)+1}^{N/2} H(m) e^{j 2\\pi m k /N}\n",
    "$$"
   ]
  },
  {
   "cell_type": "code",
   "execution_count": null,
   "metadata": {},
   "outputs": [],
   "source": [
    "h = np.fft.ifft(H,N)\n",
    "# Plot the figure\n",
    "plt.figure()\n",
    "plt.plot(h,'o')\n",
    "plt.xlabel('$k$')\n",
    "plt.ylabel('$h[k]$')\n",
    "plt.grid()\n",
    "plt.tight_layout()\n",
    "plt.show()"
   ]
  },
  {
   "cell_type": "markdown",
   "id": "56565647",
   "metadata": {},
   "source": [
    "Making a signal to test how this filter works "
   ]
  },
  {
   "cell_type": "code",
   "execution_count": null,
   "metadata": {},
   "outputs": [],
   "source": [
    "N=100\n",
    "n=np.arange(N)\n",
    "fs = 50 #Hz\n",
    "ts = 1/fs #s \n",
    "f1=1 #Hz\n",
    "f2=20 #Hz\n",
    "\n",
    "x = np.cos(2*np.pi*f1*n*ts)+np.cos(2*np.pi*f2*n*ts)\n",
    "plt.figure()\n",
    "plt.plot(n,x,'-o')\n",
    "plt.xlabel('$n$')\n",
    "plt.ylabel('$x[n]$')\n",
    "plt.grid()\n",
    "plt.tight_layout()\n",
    "plt.show()\n",
    "\n",
    "\n",
    "plt.figure()\n",
    "plt.plot(n*fs/N,np.fft.fft(x),'-o')\n",
    "plt.xlabel('$f (Hz)$')\n",
    "plt.ylabel('$X$')\n",
    "plt.grid()\n",
    "plt.tight_layout()\n",
    "plt.show()\n",
    "\n",
    "y = np.convolve(h,x)\n",
    "\n",
    "plt.figure()\n",
    "plt.plot(y,'-o')\n",
    "plt.xlabel('$n$')\n",
    "plt.ylabel('$y[n]$')\n",
    "plt.grid()\n",
    "plt.tight_layout()\n",
    "plt.show()\n",
    "\n",
    "plt.figure()\n",
    "plt.plot(np.arange(len(y))*fs/len(y),np.abs(np.fft.fft(y)),'-o')\n",
    "plt.xlabel('$f(Hz)$')\n",
    "plt.ylabel('$Y_{mag}$')\n",
    "plt.grid()\n",
    "plt.tight_layout()\n",
    "plt.show()\n",
    "\n"
   ]
  },
  {
   "cell_type": "markdown",
   "metadata": {},
   "source": [
    "## A Chebyshev window\n",
    "This example is from the documentation of the python function https://docs.scipy.org/doc/scipy/reference/generated/scipy.signal.windows.chebwin.html"
   ]
  },
  {
   "cell_type": "code",
   "execution_count": null,
   "metadata": {},
   "outputs": [],
   "source": [
    "from scipy import signal\n",
    "from scipy.fftpack import fft, fftshift\n",
    "import matplotlib.pyplot as plt\n",
    "window = signal.chebwin(51, at=100)\n",
    "plt.figure()\n",
    "plt.plot(window)\n",
    "plt.title(\"Dolph-Chebyshev window (100 dB)\")\n",
    "plt.ylabel(\"Amplitude\")\n",
    "plt.xlabel(\"Sample\")\n",
    "\n",
    "\n",
    "plt.figure()\n",
    "A = fft(window, 2048) / (len(window)/2.0)\n",
    "freq = np.linspace(-0.5, 0.5, len(A))\n",
    "response = 20 * np.log10(np.abs(fftshift(A / abs(A).max())))\n",
    "plt.plot(freq, response)\n",
    "plt.axis([-0.5, 0.5, -120, 0])\n",
    "plt.title(\"Frequency response of the Dolph-Chebyshev window (100 dB)\")\n",
    "plt.ylabel(\"Normalized magnitude [dB]\")\n",
    "plt.xlabel(\"Normalized frequency [cycles per sample]\")"
   ]
  },
  {
   "cell_type": "code",
   "execution_count": null,
   "metadata": {},
   "outputs": [],
   "source": []
  }
 ],
 "metadata": {
  "kernelspec": {
   "display_name": "Python 3 (ipykernel)",
   "language": "python",
   "name": "python3"
  },
  "language_info": {
   "codemirror_mode": {
    "name": "ipython",
    "version": 3
   },
   "file_extension": ".py",
   "mimetype": "text/x-python",
   "name": "python",
   "nbconvert_exporter": "python",
   "pygments_lexer": "ipython3"
  }
 },
 "nbformat": 4,
 "nbformat_minor": 4
}
